{
 "cells": [
  {
   "cell_type": "markdown",
   "metadata": {},
   "source": [
    "# Classification using ```pytorch``` - Neural Network Classifier\n",
    "\n",
    "We first begin by loading in all of the same packages as we did in notebook [4a - Logistic Regression](classroom_04a.ipynb).\n",
    "\n",
    "What we'll see is the code is actually _exactly_ the same throughout this notebook as it was in the previous example. The only difference is the way that define the model class using ```pytorch```."
   ]
  },
  {
   "cell_type": "code",
   "execution_count": 2,
   "metadata": {},
   "outputs": [],
   "source": [
    "# system tools\n",
    "import os\n",
    "\n",
    "# pytorch\n",
    "import torch\n",
    "import torch.nn as nn\n",
    "\n",
    "# data processing\n",
    "import pandas as pd\n",
    "import numpy as np\n",
    "\n",
    "# huggingface datasets\n",
    "from datasets import load_dataset\n",
    "\n",
    "# scikit learn tools\n",
    "from sklearn.metrics import classification_report\n",
    "from sklearn.feature_extraction.text import CountVectorizer\n",
    "\n",
    "# plotting tools\n",
    "import matplotlib.pyplot as plt"
   ]
  },
  {
   "cell_type": "markdown",
   "metadata": {},
   "source": [
    "\n",
    "__Creating a model class__\n",
    "\n"
   ]
  },
  {
   "cell_type": "code",
   "execution_count": 7,
   "metadata": {},
   "outputs": [],
   "source": [
    "\n",
    "\n",
    "\n",
    "\n",
    "# Define model\n",
    "class Model(nn.Module):\n",
    "    def __init__(n_input_features=10):            # default input features, can be overridden\n",
    "        super().__init__()                              # inherit from parent class\n",
    "        \n",
    "        self.linear1 = nn.Linear(n_input_features, 30)    # one linear layer with single output\n",
    "        self.linear2 = nn.Linear(30, 30)\n",
    "        self.linear3 = nn.Linear(30, 1)\n",
    "\n",
    "    def forward(self, x):                               # how should one forward pass look?\n",
    "        x = self.linear1(x)                              # pass the data through the linear layer\n",
    "        x = torch.sigmoid(x) \n",
    "        x = self.linear2(x)\n",
    "        x = torch.sigmoid(x) \n",
    "        x = self.linear3(x)\n",
    "        y_pred = torch.sigmoid(x)                     # squash the outputs through sigmoid layer\n",
    "        return y_pred                                   # return predictions\n",
    "\n"
   ]
  },
  {
   "cell_type": "markdown",
   "metadata": {},
   "source": [
    "## Load data\n"
   ]
  },
  {
   "cell_type": "code",
   "execution_count": 4,
   "metadata": {},
   "outputs": [
    {
     "name": "stderr",
     "output_type": "stream",
     "text": [
      "Found cached dataset glue (/home/coder/.cache/huggingface/datasets/glue/sst2/1.0.0/dacbe3125aa31d7f70367a07a8a9e72a5a0bfeb5fc42e75c9db75b96da6053ad)\n"
     ]
    },
    {
     "data": {
      "application/vnd.jupyter.widget-view+json": {
       "model_id": "2b18a2ac96784e42a400db49938060c7",
       "version_major": 2,
       "version_minor": 0
      },
      "text/plain": [
       "  0%|          | 0/3 [00:00<?, ?it/s]"
      ]
     },
     "metadata": {},
     "output_type": "display_data"
    }
   ],
   "source": [
    "# load the sst2 dataset\n",
    "dataset = load_dataset(\"glue\", \"sst2\")\n",
    "# select the train split\n",
    "data = dataset[\"train\"]\n",
    "X = data[\"sentence\"]\n",
    "y = data[\"label\"]"
   ]
  },
  {
   "cell_type": "markdown",
   "metadata": {},
   "source": [
    "\n",
    "## Create document representations\n"
   ]
  },
  {
   "cell_type": "code",
   "execution_count": 5,
   "metadata": {},
   "outputs": [],
   "source": [
    "# vectorizer\n",
    "vectorizer = CountVectorizer()\n",
    "# vectorized training data\n",
    "X_train_vect = vectorizer.fit_transform(X_train)\n",
    "# only transform val and test\n",
    "X_val_vect = vect.transform(X_val)\n",
    "X_test_vect = vect.transform(X_test)\n",
    "# to tensors\n",
    "X_vect = torch.tensor(X_vect.toarray(), dtype=torch.float) # should this be X_train? And then create one for test and val\n",
    "y = torch.tensor(list(y), dtype=torch.float)\n",
    "y = y.view(y.shape[0], 1)"
   ]
  },
  {
   "cell_type": "markdown",
   "metadata": {},
   "source": [
    "\n",
    "## Initialize parameters\n"
   ]
  },
  {
   "cell_type": "code",
   "execution_count": 8,
   "metadata": {},
   "outputs": [
    {
     "ename": "TypeError",
     "evalue": "__init__() got multiple values for argument 'n_input_features'",
     "output_type": "error",
     "traceback": [
      "\u001b[0;31m---------------------------------------------------------------------------\u001b[0m",
      "\u001b[0;31mTypeError\u001b[0m                                 Traceback (most recent call last)",
      "\u001b[1;32m/work/NLP-AU/My_files/nbs/classroom_04b.ipynb Cell 10'\u001b[0m in \u001b[0;36m<cell line: 3>\u001b[0;34m()\u001b[0m\n\u001b[1;32m      <a href='vscode-notebook-cell://app-185042-0.cloud.sdu.dk/work/NLP-AU/My_files/nbs/classroom_04b.ipynb#ch0000009vscode-remote?line=0'>1</a>\u001b[0m \u001b[39m# initialize model\u001b[39;00m\n\u001b[1;32m      <a href='vscode-notebook-cell://app-185042-0.cloud.sdu.dk/work/NLP-AU/My_files/nbs/classroom_04b.ipynb#ch0000009vscode-remote?line=1'>2</a>\u001b[0m n_samples, n_features \u001b[39m=\u001b[39m X_vect\u001b[39m.\u001b[39mshape\n\u001b[0;32m----> <a href='vscode-notebook-cell://app-185042-0.cloud.sdu.dk/work/NLP-AU/My_files/nbs/classroom_04b.ipynb#ch0000009vscode-remote?line=2'>3</a>\u001b[0m model \u001b[39m=\u001b[39m Model(n_input_features\u001b[39m=\u001b[39;49mn_features)\n\u001b[1;32m      <a href='vscode-notebook-cell://app-185042-0.cloud.sdu.dk/work/NLP-AU/My_files/nbs/classroom_04b.ipynb#ch0000009vscode-remote?line=4'>5</a>\u001b[0m \u001b[39m# define loss and optimizer\u001b[39;00m\n\u001b[1;32m      <a href='vscode-notebook-cell://app-185042-0.cloud.sdu.dk/work/NLP-AU/My_files/nbs/classroom_04b.ipynb#ch0000009vscode-remote?line=5'>6</a>\u001b[0m criterion \u001b[39m=\u001b[39m nn\u001b[39m.\u001b[39mBCELoss()\n",
      "\u001b[0;31mTypeError\u001b[0m: __init__() got multiple values for argument 'n_input_features'"
     ]
    }
   ],
   "source": [
    "# initialize model\n",
    "n_samples, n_features = X_vect.shape\n",
    "model = Model(n_input_features=n_features)\n",
    "\n",
    "# define loss and optimizer\n",
    "criterion = nn.BCELoss()\n",
    "optimizer = torch.optim.AdamW(model.parameters())"
   ]
  },
  {
   "cell_type": "markdown",
   "metadata": {},
   "source": [
    "## Train\n"
   ]
  },
  {
   "cell_type": "code",
   "execution_count": null,
   "metadata": {},
   "outputs": [],
   "source": [
    "# train\n",
    "def train(num_epochs): # epochs should be 100\n",
    "    best_accuracy = 0.0\n",
    "    print(\"[INFO:] Training classifier...\")\n",
    "    loss_history = []\n",
    "    \n",
    "    for epoch in range(1, num_epochs+1):\n",
    "        running_trian_loss = 0.0\n",
    "        running_accuracy = 0.0\n",
    "        running_vall_loss = 0.0\n",
    "        total = 0\n",
    "\n",
    "        # Training loop\n",
    "        for data in train:\n",
    "            inputs, outputs = data\n",
    "            optimizer.zero_grad()\n",
    "            predicted_outputs = model(inputs)\n",
    "            train_loss = loss_fn(predicted_outputs, outputs)\n",
    "            train_loss.backward() \n",
    "            optimizer.step()\n",
    "            running_train_loss + train_loss.item()\n",
    "\n",
    "        train_loss_value = running_train_loss/len(train) # what the data is called\n",
    "\n",
    "        # validation loop\n",
    "        with torch.no_grad():\n",
    "            model.eval()\n",
    "            for data in val: # What the data is called\n",
    "                inputs, outputs = data\n",
    "                predicted_outputs = data\n",
    "                predicted_outputs = model (inputs)\n",
    "                val_loss = loss_fn(predicted_outputs, outputs)\n",
    "\n",
    "                 # The label with the highest value will be our prediction \n",
    "               _, predicted = torch.max(predicted_outputs, 1) \n",
    "               running_vall_loss += val_loss.item()  \n",
    "               total += outputs.size(0) \n",
    "               running_accuracy += (predicted == outputs).sum().item() \n",
    "\n",
    "        # Calculate validation loss value \n",
    "        val_loss_value = running_vall_loss/len(validate_loader) \n",
    "                \n",
    "        # Calculate accuracy as the number of correct predictions in the validation batch divided by the total number of predictions done.  \n",
    "        accuracy = (100 * running_accuracy / total)     \n",
    " \n",
    "        # Save the model if the accuracy is the best \n",
    "        if accuracy > best_accuracy: \n",
    "            saveModel() \n",
    "            best_accuracy = accuracy \n",
    "         \n",
    "        # Print the statistics of the epoch \n",
    "        print('Completed training batch', epoch, 'Training Loss is: %.4f' %train_loss_value, 'Validation Loss is: %.4f' %val_loss_value, 'Accuracy is %d %%' % (accuracy)) \n",
    "            \n",
    "   "
   ]
  },
  {
   "cell_type": "markdown",
   "metadata": {},
   "source": [
    "## Evaluate\n"
   ]
  },
  {
   "cell_type": "code",
   "execution_count": null,
   "metadata": {},
   "outputs": [],
   "source": [
    "# Plot\n",
    "predicted = model(X_vect).detach().numpy()\n",
    "print(classification_report(y, \n",
    "                            np.where(predicted > 0.5, 1, 0),\n",
    "                            target_names = [\"Negative\", \"Positive\"]))"
   ]
  },
  {
   "cell_type": "markdown",
   "metadata": {},
   "source": [
    "## Plot loss history"
   ]
  },
  {
   "cell_type": "code",
   "execution_count": null,
   "metadata": {},
   "outputs": [],
   "source": [
    "loss_H = [val.item() for val in loss_history]\n",
    "fig, ax = plt.subplots()\n",
    "ax.plot(loss_H)"
   ]
  }
 ],
 "metadata": {
  "kernelspec": {
   "display_name": "Python 3.9.12 64-bit",
   "language": "python",
   "name": "python3"
  },
  "language_info": {
   "codemirror_mode": {
    "name": "ipython",
    "version": 3
   },
   "file_extension": ".py",
   "mimetype": "text/x-python",
   "name": "python",
   "nbconvert_exporter": "python",
   "pygments_lexer": "ipython3",
   "version": "3.9.2"
  },
  "orig_nbformat": 4,
  "vscode": {
   "interpreter": {
    "hash": "397704579725e15f5c7cb49fe5f0341eb7531c82d19f2c29d197e8b64ab5776b"
   }
  }
 },
 "nbformat": 4,
 "nbformat_minor": 2
}
